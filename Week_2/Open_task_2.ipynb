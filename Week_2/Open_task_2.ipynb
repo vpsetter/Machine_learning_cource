{
 "cells": [
  {
   "cell_type": "markdown",
   "metadata": {},
   "source": [
    "Первичное исследование данных\n",
    "Это задания не проверяется ЛМС, но выполняя его, вы тренируете навыки работы с реальным набором данных.\n",
    "\n",
    "Для этого задания вы можете использовать любой доступный вам набор данных. Например, выберите и загрузите интересный для вас датасет с сайта Kaggle.\n",
    "\n",
    "Что нужно сделать:\n",
    "\n",
    "1.\tСоздайте Python-ноутбук, загрузите в него данные из csv-файла.\n",
    "\n",
    "2.\tИзучите выбранный набор данных — определите количество столбцов, названия столбцов, типы данных столбцов, использование памяти, индекс диапазона и количество ячеек в каждом столбце (ненулевые значения).\n",
    "\n",
    "3.\tОпределите, содержатся ли в данных пропущенные значения и строки-дубликаты.\n",
    "\n",
    "\n",
    "4.\tИзучите функции библиотеки Pandas для работы с объектом DataFrame.Подумайте, какие из них могли бы пригодиться при предобработке данных, попробуйте применить их к выбранному набору данных.\n",
    "\n",
    "По каждому пункту задания сделайте выводы и отразите их в созданном Python-ноутбуке. В качестве решения задания прикрепите ссылку на свой ноутбук."
   ]
  },
  {
   "cell_type": "code",
   "execution_count": 1,
   "metadata": {},
   "outputs": [],
   "source": [
    "import pandas as pd\n",
    "import numpy as np\n",
    "import os"
   ]
  },
  {
   "cell_type": "code",
   "execution_count": 2,
   "metadata": {},
   "outputs": [],
   "source": [
    "root_path = os.getcwd()\n",
    "dir_path = os.path.join(root_path, \"datasets\")\n",
    "filename = \"board_games.csv\"\n",
    "file_path = os.path.join(dir_path, filename)"
   ]
  },
  {
   "cell_type": "code",
   "execution_count": 3,
   "metadata": {},
   "outputs": [],
   "source": [
    "df = pd.read_csv(file_path)"
   ]
  },
  {
   "cell_type": "code",
   "execution_count": 4,
   "metadata": {},
   "outputs": [
    {
     "name": "stdout",
     "output_type": "stream",
     "text": [
      "<class 'pandas.core.frame.DataFrame'>\n",
      "RangeIndex: 10532 entries, 0 to 10531\n",
      "Data columns (total 22 columns):\n",
      " #   Column          Non-Null Count  Dtype  \n",
      "---  ------          --------------  -----  \n",
      " 0   game_id         10532 non-null  int64  \n",
      " 1   description     10532 non-null  object \n",
      " 2   image           10531 non-null  object \n",
      " 3   max_players     10532 non-null  int64  \n",
      " 4   max_playtime    10532 non-null  int64  \n",
      " 5   min_age         10532 non-null  int64  \n",
      " 6   min_players     10532 non-null  int64  \n",
      " 7   min_playtime    10532 non-null  int64  \n",
      " 8   name            10532 non-null  object \n",
      " 9   playing_time    10532 non-null  int64  \n",
      " 10  thumbnail       10531 non-null  object \n",
      " 11  year_published  10532 non-null  int64  \n",
      " 12  artist          7759 non-null   object \n",
      " 13  category        10438 non-null  object \n",
      " 14  compilation     410 non-null    object \n",
      " 15  designer        10406 non-null  object \n",
      " 16  expansion       2752 non-null   object \n",
      " 17  family          7724 non-null   object \n",
      " 18  mechanic        9582 non-null   object \n",
      " 19  publisher       10529 non-null  object \n",
      " 20  average_rating  10532 non-null  float64\n",
      " 21  users_rated     10532 non-null  int64  \n",
      "dtypes: float64(1), int64(9), object(12)\n",
      "memory usage: 1.8+ MB\n"
     ]
    }
   ],
   "source": [
    "df.info()"
   ]
  },
  {
   "cell_type": "code",
   "execution_count": 5,
   "metadata": {},
   "outputs": [
    {
     "data": {
      "text/plain": [
       "True"
      ]
     },
     "execution_count": 5,
     "metadata": {},
     "output_type": "execute_result"
    }
   ],
   "source": [
    "df.isnull().sum().sum() > 0"
   ]
  },
  {
   "cell_type": "code",
   "execution_count": 6,
   "metadata": {},
   "outputs": [
    {
     "data": {
      "text/plain": [
       "False"
      ]
     },
     "execution_count": 6,
     "metadata": {},
     "output_type": "execute_result"
    }
   ],
   "source": [
    "df.duplicated().sum() > 0"
   ]
  },
  {
   "cell_type": "code",
   "execution_count": 7,
   "metadata": {},
   "outputs": [
    {
     "data": {
      "text/plain": [
       "(10532, 22)"
      ]
     },
     "execution_count": 7,
     "metadata": {},
     "output_type": "execute_result"
    }
   ],
   "source": [
    "df.shape"
   ]
  },
  {
   "cell_type": "code",
   "execution_count": 8,
   "metadata": {},
   "outputs": [],
   "source": [
    "df = df.select_dtypes(include=['float64', 'int64'])\n",
    "df.dropna(inplace = True)"
   ]
  },
  {
   "cell_type": "code",
   "execution_count": 9,
   "metadata": {},
   "outputs": [
    {
     "data": {
      "text/plain": [
       "(10532, 10)"
      ]
     },
     "execution_count": 9,
     "metadata": {},
     "output_type": "execute_result"
    }
   ],
   "source": [
    "df.shape"
   ]
  },
  {
   "cell_type": "code",
   "execution_count": 10,
   "metadata": {},
   "outputs": [
    {
     "data": {
      "text/html": [
       "<div>\n",
       "<style scoped>\n",
       "    .dataframe tbody tr th:only-of-type {\n",
       "        vertical-align: middle;\n",
       "    }\n",
       "\n",
       "    .dataframe tbody tr th {\n",
       "        vertical-align: top;\n",
       "    }\n",
       "\n",
       "    .dataframe thead th {\n",
       "        text-align: right;\n",
       "    }\n",
       "</style>\n",
       "<table border=\"1\" class=\"dataframe\">\n",
       "  <thead>\n",
       "    <tr style=\"text-align: right;\">\n",
       "      <th></th>\n",
       "      <th>game_id</th>\n",
       "      <th>max_players</th>\n",
       "      <th>max_playtime</th>\n",
       "      <th>min_age</th>\n",
       "      <th>min_players</th>\n",
       "      <th>min_playtime</th>\n",
       "      <th>playing_time</th>\n",
       "      <th>year_published</th>\n",
       "      <th>average_rating</th>\n",
       "      <th>users_rated</th>\n",
       "    </tr>\n",
       "  </thead>\n",
       "  <tbody>\n",
       "    <tr>\n",
       "      <th>count</th>\n",
       "      <td>10532.000000</td>\n",
       "      <td>10532.000000</td>\n",
       "      <td>10532.000000</td>\n",
       "      <td>10532.000000</td>\n",
       "      <td>10532.000000</td>\n",
       "      <td>10532.000000</td>\n",
       "      <td>10532.000000</td>\n",
       "      <td>10532.000000</td>\n",
       "      <td>10532.000000</td>\n",
       "      <td>10532.000000</td>\n",
       "    </tr>\n",
       "    <tr>\n",
       "      <th>mean</th>\n",
       "      <td>62059.203095</td>\n",
       "      <td>5.657330</td>\n",
       "      <td>91.341436</td>\n",
       "      <td>9.714964</td>\n",
       "      <td>2.070547</td>\n",
       "      <td>80.882738</td>\n",
       "      <td>91.341436</td>\n",
       "      <td>2003.070832</td>\n",
       "      <td>6.370856</td>\n",
       "      <td>870.081466</td>\n",
       "    </tr>\n",
       "    <tr>\n",
       "      <th>std</th>\n",
       "      <td>66223.716828</td>\n",
       "      <td>18.884403</td>\n",
       "      <td>659.754400</td>\n",
       "      <td>3.451226</td>\n",
       "      <td>0.664394</td>\n",
       "      <td>637.873893</td>\n",
       "      <td>659.754400</td>\n",
       "      <td>12.278296</td>\n",
       "      <td>0.850364</td>\n",
       "      <td>2880.214998</td>\n",
       "    </tr>\n",
       "    <tr>\n",
       "      <th>min</th>\n",
       "      <td>1.000000</td>\n",
       "      <td>0.000000</td>\n",
       "      <td>0.000000</td>\n",
       "      <td>0.000000</td>\n",
       "      <td>0.000000</td>\n",
       "      <td>0.000000</td>\n",
       "      <td>0.000000</td>\n",
       "      <td>1950.000000</td>\n",
       "      <td>1.384210</td>\n",
       "      <td>50.000000</td>\n",
       "    </tr>\n",
       "    <tr>\n",
       "      <th>25%</th>\n",
       "      <td>5444.500000</td>\n",
       "      <td>4.000000</td>\n",
       "      <td>30.000000</td>\n",
       "      <td>8.000000</td>\n",
       "      <td>2.000000</td>\n",
       "      <td>25.000000</td>\n",
       "      <td>30.000000</td>\n",
       "      <td>1998.000000</td>\n",
       "      <td>5.829585</td>\n",
       "      <td>85.000000</td>\n",
       "    </tr>\n",
       "    <tr>\n",
       "      <th>50%</th>\n",
       "      <td>28822.500000</td>\n",
       "      <td>4.000000</td>\n",
       "      <td>45.000000</td>\n",
       "      <td>10.000000</td>\n",
       "      <td>2.000000</td>\n",
       "      <td>45.000000</td>\n",
       "      <td>45.000000</td>\n",
       "      <td>2007.000000</td>\n",
       "      <td>6.392965</td>\n",
       "      <td>176.000000</td>\n",
       "    </tr>\n",
       "    <tr>\n",
       "      <th>75%</th>\n",
       "      <td>126409.500000</td>\n",
       "      <td>6.000000</td>\n",
       "      <td>90.000000</td>\n",
       "      <td>12.000000</td>\n",
       "      <td>2.000000</td>\n",
       "      <td>90.000000</td>\n",
       "      <td>90.000000</td>\n",
       "      <td>2012.000000</td>\n",
       "      <td>6.942675</td>\n",
       "      <td>518.000000</td>\n",
       "    </tr>\n",
       "    <tr>\n",
       "      <th>max</th>\n",
       "      <td>216725.000000</td>\n",
       "      <td>999.000000</td>\n",
       "      <td>60000.000000</td>\n",
       "      <td>42.000000</td>\n",
       "      <td>9.000000</td>\n",
       "      <td>60000.000000</td>\n",
       "      <td>60000.000000</td>\n",
       "      <td>2016.000000</td>\n",
       "      <td>9.003920</td>\n",
       "      <td>67655.000000</td>\n",
       "    </tr>\n",
       "  </tbody>\n",
       "</table>\n",
       "</div>"
      ],
      "text/plain": [
       "             game_id   max_players  max_playtime       min_age   min_players  \\\n",
       "count   10532.000000  10532.000000  10532.000000  10532.000000  10532.000000   \n",
       "mean    62059.203095      5.657330     91.341436      9.714964      2.070547   \n",
       "std     66223.716828     18.884403    659.754400      3.451226      0.664394   \n",
       "min         1.000000      0.000000      0.000000      0.000000      0.000000   \n",
       "25%      5444.500000      4.000000     30.000000      8.000000      2.000000   \n",
       "50%     28822.500000      4.000000     45.000000     10.000000      2.000000   \n",
       "75%    126409.500000      6.000000     90.000000     12.000000      2.000000   \n",
       "max    216725.000000    999.000000  60000.000000     42.000000      9.000000   \n",
       "\n",
       "       min_playtime  playing_time  year_published  average_rating  \\\n",
       "count  10532.000000  10532.000000    10532.000000    10532.000000   \n",
       "mean      80.882738     91.341436     2003.070832        6.370856   \n",
       "std      637.873893    659.754400       12.278296        0.850364   \n",
       "min        0.000000      0.000000     1950.000000        1.384210   \n",
       "25%       25.000000     30.000000     1998.000000        5.829585   \n",
       "50%       45.000000     45.000000     2007.000000        6.392965   \n",
       "75%       90.000000     90.000000     2012.000000        6.942675   \n",
       "max    60000.000000  60000.000000     2016.000000        9.003920   \n",
       "\n",
       "        users_rated  \n",
       "count  10532.000000  \n",
       "mean     870.081466  \n",
       "std     2880.214998  \n",
       "min       50.000000  \n",
       "25%       85.000000  \n",
       "50%      176.000000  \n",
       "75%      518.000000  \n",
       "max    67655.000000  "
      ]
     },
     "execution_count": 10,
     "metadata": {},
     "output_type": "execute_result"
    }
   ],
   "source": [
    "df.describe()"
   ]
  },
  {
   "cell_type": "code",
   "execution_count": 11,
   "metadata": {},
   "outputs": [],
   "source": [
    "df_popular = df.loc[df.users_rated >= 1000]"
   ]
  },
  {
   "cell_type": "code",
   "execution_count": 15,
   "metadata": {},
   "outputs": [
    {
     "data": {
      "text/plain": [
       "1638"
      ]
     },
     "execution_count": 15,
     "metadata": {},
     "output_type": "execute_result"
    }
   ],
   "source": [
    "df_popular.shape[0]"
   ]
  },
  {
   "cell_type": "code",
   "execution_count": 19,
   "metadata": {},
   "outputs": [
    {
     "data": {
      "text/html": [
       "<div>\n",
       "<style scoped>\n",
       "    .dataframe tbody tr th:only-of-type {\n",
       "        vertical-align: middle;\n",
       "    }\n",
       "\n",
       "    .dataframe tbody tr th {\n",
       "        vertical-align: top;\n",
       "    }\n",
       "\n",
       "    .dataframe thead th {\n",
       "        text-align: right;\n",
       "    }\n",
       "</style>\n",
       "<table border=\"1\" class=\"dataframe\">\n",
       "  <thead>\n",
       "    <tr style=\"text-align: right;\">\n",
       "      <th></th>\n",
       "      <th>game_id</th>\n",
       "      <th>max_players</th>\n",
       "      <th>max_playtime</th>\n",
       "      <th>min_age</th>\n",
       "      <th>min_players</th>\n",
       "      <th>min_playtime</th>\n",
       "      <th>playing_time</th>\n",
       "      <th>year_published</th>\n",
       "      <th>average_rating</th>\n",
       "      <th>users_rated</th>\n",
       "    </tr>\n",
       "  </thead>\n",
       "  <tbody>\n",
       "    <tr>\n",
       "      <th>12</th>\n",
       "      <td>13</td>\n",
       "      <td>4</td>\n",
       "      <td>120</td>\n",
       "      <td>10</td>\n",
       "      <td>3</td>\n",
       "      <td>60</td>\n",
       "      <td>120</td>\n",
       "      <td>1995</td>\n",
       "      <td>7.26569</td>\n",
       "      <td>67655</td>\n",
       "    </tr>\n",
       "    <tr>\n",
       "      <th>617</th>\n",
       "      <td>822</td>\n",
       "      <td>5</td>\n",
       "      <td>45</td>\n",
       "      <td>8</td>\n",
       "      <td>2</td>\n",
       "      <td>30</td>\n",
       "      <td>45</td>\n",
       "      <td>2000</td>\n",
       "      <td>7.43536</td>\n",
       "      <td>67056</td>\n",
       "    </tr>\n",
       "    <tr>\n",
       "      <th>5368</th>\n",
       "      <td>30549</td>\n",
       "      <td>4</td>\n",
       "      <td>45</td>\n",
       "      <td>8</td>\n",
       "      <td>2</td>\n",
       "      <td>45</td>\n",
       "      <td>45</td>\n",
       "      <td>2008</td>\n",
       "      <td>7.67234</td>\n",
       "      <td>62377</td>\n",
       "    </tr>\n",
       "    <tr>\n",
       "      <th>5737</th>\n",
       "      <td>36218</td>\n",
       "      <td>4</td>\n",
       "      <td>30</td>\n",
       "      <td>13</td>\n",
       "      <td>2</td>\n",
       "      <td>30</td>\n",
       "      <td>30</td>\n",
       "      <td>2008</td>\n",
       "      <td>7.69995</td>\n",
       "      <td>55930</td>\n",
       "    </tr>\n",
       "    <tr>\n",
       "      <th>6720</th>\n",
       "      <td>68448</td>\n",
       "      <td>7</td>\n",
       "      <td>30</td>\n",
       "      <td>10</td>\n",
       "      <td>2</td>\n",
       "      <td>30</td>\n",
       "      <td>30</td>\n",
       "      <td>2010</td>\n",
       "      <td>7.83595</td>\n",
       "      <td>51688</td>\n",
       "    </tr>\n",
       "    <tr>\n",
       "      <th>...</th>\n",
       "      <td>...</td>\n",
       "      <td>...</td>\n",
       "      <td>...</td>\n",
       "      <td>...</td>\n",
       "      <td>...</td>\n",
       "      <td>...</td>\n",
       "      <td>...</td>\n",
       "      <td>...</td>\n",
       "      <td>...</td>\n",
       "      <td>...</td>\n",
       "    </tr>\n",
       "    <tr>\n",
       "      <th>6483</th>\n",
       "      <td>59753</td>\n",
       "      <td>5</td>\n",
       "      <td>60</td>\n",
       "      <td>12</td>\n",
       "      <td>2</td>\n",
       "      <td>60</td>\n",
       "      <td>60</td>\n",
       "      <td>2009</td>\n",
       "      <td>6.89980</td>\n",
       "      <td>1005</td>\n",
       "    </tr>\n",
       "    <tr>\n",
       "      <th>1554</th>\n",
       "      <td>2533</td>\n",
       "      <td>2</td>\n",
       "      <td>30</td>\n",
       "      <td>8</td>\n",
       "      <td>2</td>\n",
       "      <td>30</td>\n",
       "      <td>30</td>\n",
       "      <td>2001</td>\n",
       "      <td>6.93958</td>\n",
       "      <td>1003</td>\n",
       "    </tr>\n",
       "    <tr>\n",
       "      <th>4540</th>\n",
       "      <td>19996</td>\n",
       "      <td>4</td>\n",
       "      <td>20</td>\n",
       "      <td>5</td>\n",
       "      <td>2</td>\n",
       "      <td>10</td>\n",
       "      <td>20</td>\n",
       "      <td>2005</td>\n",
       "      <td>6.68597</td>\n",
       "      <td>1002</td>\n",
       "    </tr>\n",
       "    <tr>\n",
       "      <th>1872</th>\n",
       "      <td>3234</td>\n",
       "      <td>4</td>\n",
       "      <td>60</td>\n",
       "      <td>10</td>\n",
       "      <td>3</td>\n",
       "      <td>45</td>\n",
       "      <td>60</td>\n",
       "      <td>2002</td>\n",
       "      <td>6.70326</td>\n",
       "      <td>1002</td>\n",
       "    </tr>\n",
       "    <tr>\n",
       "      <th>1161</th>\n",
       "      <td>1758</td>\n",
       "      <td>5</td>\n",
       "      <td>120</td>\n",
       "      <td>10</td>\n",
       "      <td>1</td>\n",
       "      <td>120</td>\n",
       "      <td>120</td>\n",
       "      <td>1989</td>\n",
       "      <td>6.67924</td>\n",
       "      <td>1002</td>\n",
       "    </tr>\n",
       "  </tbody>\n",
       "</table>\n",
       "<p>1638 rows × 10 columns</p>\n",
       "</div>"
      ],
      "text/plain": [
       "      game_id  max_players  max_playtime  min_age  min_players  min_playtime  \\\n",
       "12         13            4           120       10            3            60   \n",
       "617       822            5            45        8            2            30   \n",
       "5368    30549            4            45        8            2            45   \n",
       "5737    36218            4            30       13            2            30   \n",
       "6720    68448            7            30       10            2            30   \n",
       "...       ...          ...           ...      ...          ...           ...   \n",
       "6483    59753            5            60       12            2            60   \n",
       "1554     2533            2            30        8            2            30   \n",
       "4540    19996            4            20        5            2            10   \n",
       "1872     3234            4            60       10            3            45   \n",
       "1161     1758            5           120       10            1           120   \n",
       "\n",
       "      playing_time  year_published  average_rating  users_rated  \n",
       "12             120            1995         7.26569        67655  \n",
       "617             45            2000         7.43536        67056  \n",
       "5368            45            2008         7.67234        62377  \n",
       "5737            30            2008         7.69995        55930  \n",
       "6720            30            2010         7.83595        51688  \n",
       "...            ...             ...             ...          ...  \n",
       "6483            60            2009         6.89980         1005  \n",
       "1554            30            2001         6.93958         1003  \n",
       "4540            20            2005         6.68597         1002  \n",
       "1872            60            2002         6.70326         1002  \n",
       "1161           120            1989         6.67924         1002  \n",
       "\n",
       "[1638 rows x 10 columns]"
      ]
     },
     "execution_count": 19,
     "metadata": {},
     "output_type": "execute_result"
    }
   ],
   "source": [
    "df_popular.sort_values(by = [\"users_rated\", \"year_published\"], ascending=False)"
   ]
  }
 ],
 "metadata": {
  "kernelspec": {
   "display_name": "Python 3",
   "language": "python",
   "name": "python3"
  },
  "language_info": {
   "codemirror_mode": {
    "name": "ipython",
    "version": 3
   },
   "file_extension": ".py",
   "mimetype": "text/x-python",
   "name": "python",
   "nbconvert_exporter": "python",
   "pygments_lexer": "ipython3",
   "version": "3.8.5"
  }
 },
 "nbformat": 4,
 "nbformat_minor": 4
}
