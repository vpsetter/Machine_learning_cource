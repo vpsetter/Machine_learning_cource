{
 "cells": [
  {
   "cell_type": "markdown",
   "metadata": {},
   "source": [
    "### Анализ похожих товаров по их описанию\n",
    "Допустим, вы аналитик данных в компании, которая занимается продажей мебели. Ваша задача — определить, какие товары наиболее похожи друг на друга по описанию. Для этого необходимо использовать косинусную меру угла с помощью библиотеки spacy.\n",
    "\n",
    "Шаги выполнения задания:\n",
    "\n",
    "1.\tСкачайте датасет с описанием товаров (исходный файл — product_description.csv).\n",
    "\n",
    "2.\tИмпортируйте библиотеку spacy и загрузите модель языка en_core_web_sm.\n",
    "\n",
    "Дополнительно для выполнения задания выполните импорт функций из библиотек Python:\n",
    "\n",
    "from sklearn.feature_extraction.text import TfidfVectorizer\n",
    "from sklearn.metrics.pairwise import cosine_similarity\n",
    "3.\tПроведите предобработку текста: удалите стоп-слова, лемматизируйте слова, удалите пунктуацию.\n",
    "\n",
    "Используйте следующий код для предобработки текста:\n",
    "\n",
    "def preprocess_text(text):\n",
    "    doc = nlp(text)\n",
    "    tokens = [token.lemma_.lower() for token in doc if not token.is_stop and not token.is_punct]\n",
    "    return \" \".join(tokens)\n",
    "data['processed_text'] = data['description'].apply(preprocess_text)\n",
    "4.\tСоздайте матрицу векторов для каждого товара. \n",
    "\n",
    "Используйте следующий код для векторизации:\n",
    "\n",
    "vectorizer = TfidfVectorizer()\n",
    "vectors = vectorizer.fit_transform(data['processed_text'])\n",
    "5.\tРассчитайте косинусную меру угла между каждой парой товаров.\n",
    "\n",
    "6.\tОтобразите топ-5 товаров, которые наиболее похожи друг на друга."
   ]
  },
  {
   "cell_type": "code",
   "execution_count": 4,
   "metadata": {},
   "outputs": [],
   "source": [
    "import spacy\n",
    "import numpy as np\n",
    "import pandas as pd\n",
    "import os"
   ]
  },
  {
   "cell_type": "code",
   "execution_count": 5,
   "metadata": {},
   "outputs": [
    {
     "data": {
      "text/html": [
       "<div>\n",
       "<style scoped>\n",
       "    .dataframe tbody tr th:only-of-type {\n",
       "        vertical-align: middle;\n",
       "    }\n",
       "\n",
       "    .dataframe tbody tr th {\n",
       "        vertical-align: top;\n",
       "    }\n",
       "\n",
       "    .dataframe thead th {\n",
       "        text-align: right;\n",
       "    }\n",
       "</style>\n",
       "<table border=\"1\" class=\"dataframe\">\n",
       "  <thead>\n",
       "    <tr style=\"text-align: right;\">\n",
       "      <th></th>\n",
       "      <th>product_name</th>\n",
       "      <th>description</th>\n",
       "    </tr>\n",
       "  </thead>\n",
       "  <tbody>\n",
       "    <tr>\n",
       "      <th>0</th>\n",
       "      <td>Chair</td>\n",
       "      <td>This comfortable chair is perfect for any room...</td>\n",
       "    </tr>\n",
       "    <tr>\n",
       "      <th>1</th>\n",
       "      <td>Sofa</td>\n",
       "      <td>This beautiful sofa is a great addition to any...</td>\n",
       "    </tr>\n",
       "    <tr>\n",
       "      <th>2</th>\n",
       "      <td>Table</td>\n",
       "      <td>This elegant table is perfect for your dining ...</td>\n",
       "    </tr>\n",
       "    <tr>\n",
       "      <th>3</th>\n",
       "      <td>Bed</td>\n",
       "      <td>This cozy bed is perfect for a good night's sl...</td>\n",
       "    </tr>\n",
       "    <tr>\n",
       "      <th>4</th>\n",
       "      <td>Bookshelf</td>\n",
       "      <td>This modern bookshelf is perfect for displayin...</td>\n",
       "    </tr>\n",
       "    <tr>\n",
       "      <th>5</th>\n",
       "      <td>Desk</td>\n",
       "      <td>This functional desk is perfect for your home ...</td>\n",
       "    </tr>\n",
       "    <tr>\n",
       "      <th>6</th>\n",
       "      <td>Ottoman</td>\n",
       "      <td>This stylish ottoman is perfect for your livin...</td>\n",
       "    </tr>\n",
       "    <tr>\n",
       "      <th>7</th>\n",
       "      <td>Cabinet</td>\n",
       "      <td>This versatile cabinet is perfect for storing ...</td>\n",
       "    </tr>\n",
       "    <tr>\n",
       "      <th>8</th>\n",
       "      <td>Dresser</td>\n",
       "      <td>This elegant dresser is perfect for your bedro...</td>\n",
       "    </tr>\n",
       "    <tr>\n",
       "      <th>9</th>\n",
       "      <td>TV Stand</td>\n",
       "      <td>This sleek TV stand is perfect for your entert...</td>\n",
       "    </tr>\n",
       "  </tbody>\n",
       "</table>\n",
       "</div>"
      ],
      "text/plain": [
       "  product_name                                        description\n",
       "0        Chair  This comfortable chair is perfect for any room...\n",
       "1         Sofa  This beautiful sofa is a great addition to any...\n",
       "2        Table  This elegant table is perfect for your dining ...\n",
       "3          Bed  This cozy bed is perfect for a good night's sl...\n",
       "4    Bookshelf  This modern bookshelf is perfect for displayin...\n",
       "5         Desk  This functional desk is perfect for your home ...\n",
       "6      Ottoman  This stylish ottoman is perfect for your livin...\n",
       "7      Cabinet  This versatile cabinet is perfect for storing ...\n",
       "8      Dresser  This elegant dresser is perfect for your bedro...\n",
       "9     TV Stand  This sleek TV stand is perfect for your entert..."
      ]
     },
     "execution_count": 5,
     "metadata": {},
     "output_type": "execute_result"
    }
   ],
   "source": [
    "root_path = os.getcwd()\n",
    "dir_path = os.path.join(root_path, \"datasets\")\n",
    "filename = \"product_description.csv\"\n",
    "file_path = os.path.join(dir_path, filename)\n",
    "\n",
    "df = pd.read_csv(file_path)\n",
    "df.head(10)"
   ]
  },
  {
   "cell_type": "code",
   "execution_count": 2,
   "metadata": {},
   "outputs": [],
   "source": [
    "#spacy.cli.download(\"en_core_web_sm\")"
   ]
  },
  {
   "cell_type": "code",
   "execution_count": 6,
   "metadata": {},
   "outputs": [],
   "source": [
    "nlp = spacy.load('en_core_web_sm')"
   ]
  },
  {
   "cell_type": "code",
   "execution_count": 7,
   "metadata": {},
   "outputs": [],
   "source": [
    "from sklearn.feature_extraction.text import TfidfVectorizer\n",
    "from sklearn.metrics.pairwise import cosine_similarity"
   ]
  },
  {
   "cell_type": "code",
   "execution_count": 13,
   "metadata": {},
   "outputs": [
    {
     "data": {
      "text/html": [
       "<div>\n",
       "<style scoped>\n",
       "    .dataframe tbody tr th:only-of-type {\n",
       "        vertical-align: middle;\n",
       "    }\n",
       "\n",
       "    .dataframe tbody tr th {\n",
       "        vertical-align: top;\n",
       "    }\n",
       "\n",
       "    .dataframe thead th {\n",
       "        text-align: right;\n",
       "    }\n",
       "</style>\n",
       "<table border=\"1\" class=\"dataframe\">\n",
       "  <thead>\n",
       "    <tr style=\"text-align: right;\">\n",
       "      <th></th>\n",
       "      <th>product_name</th>\n",
       "      <th>description</th>\n",
       "      <th>processed_text</th>\n",
       "    </tr>\n",
       "  </thead>\n",
       "  <tbody>\n",
       "    <tr>\n",
       "      <th>0</th>\n",
       "      <td>Chair</td>\n",
       "      <td>This comfortable chair is perfect for any room...</td>\n",
       "      <td>comfortable chair perfect room home feature so...</td>\n",
       "    </tr>\n",
       "    <tr>\n",
       "      <th>1</th>\n",
       "      <td>Sofa</td>\n",
       "      <td>This beautiful sofa is a great addition to any...</td>\n",
       "      <td>beautiful sofa great addition living room slee...</td>\n",
       "    </tr>\n",
       "    <tr>\n",
       "      <th>2</th>\n",
       "      <td>Table</td>\n",
       "      <td>This elegant table is perfect for your dining ...</td>\n",
       "      <td>elegant table perfect dining room durable wood...</td>\n",
       "    </tr>\n",
       "    <tr>\n",
       "      <th>3</th>\n",
       "      <td>Bed</td>\n",
       "      <td>This cozy bed is perfect for a good night's sl...</td>\n",
       "      <td>cozy bed perfect good night sleep soft mattres...</td>\n",
       "    </tr>\n",
       "    <tr>\n",
       "      <th>4</th>\n",
       "      <td>Bookshelf</td>\n",
       "      <td>This modern bookshelf is perfect for displayin...</td>\n",
       "      <td>modern bookshelf perfect display favorite book...</td>\n",
       "    </tr>\n",
       "    <tr>\n",
       "      <th>5</th>\n",
       "      <td>Desk</td>\n",
       "      <td>This functional desk is perfect for your home ...</td>\n",
       "      <td>functional desk perfect home office spacious s...</td>\n",
       "    </tr>\n",
       "    <tr>\n",
       "      <th>6</th>\n",
       "      <td>Ottoman</td>\n",
       "      <td>This stylish ottoman is perfect for your livin...</td>\n",
       "      <td>stylish ottoman perfect living room bedroom fo...</td>\n",
       "    </tr>\n",
       "    <tr>\n",
       "      <th>7</th>\n",
       "      <td>Cabinet</td>\n",
       "      <td>This versatile cabinet is perfect for storing ...</td>\n",
       "      <td>versatile cabinet perfect store belonging mult...</td>\n",
       "    </tr>\n",
       "    <tr>\n",
       "      <th>8</th>\n",
       "      <td>Dresser</td>\n",
       "      <td>This elegant dresser is perfect for your bedro...</td>\n",
       "      <td>elegant dresser perfect bedroom spacious drawe...</td>\n",
       "    </tr>\n",
       "    <tr>\n",
       "      <th>9</th>\n",
       "      <td>TV Stand</td>\n",
       "      <td>This sleek TV stand is perfect for your entert...</td>\n",
       "      <td>sleek tv stand perfect entertainment center mu...</td>\n",
       "    </tr>\n",
       "  </tbody>\n",
       "</table>\n",
       "</div>"
      ],
      "text/plain": [
       "  product_name                                        description  \\\n",
       "0        Chair  This comfortable chair is perfect for any room...   \n",
       "1         Sofa  This beautiful sofa is a great addition to any...   \n",
       "2        Table  This elegant table is perfect for your dining ...   \n",
       "3          Bed  This cozy bed is perfect for a good night's sl...   \n",
       "4    Bookshelf  This modern bookshelf is perfect for displayin...   \n",
       "5         Desk  This functional desk is perfect for your home ...   \n",
       "6      Ottoman  This stylish ottoman is perfect for your livin...   \n",
       "7      Cabinet  This versatile cabinet is perfect for storing ...   \n",
       "8      Dresser  This elegant dresser is perfect for your bedro...   \n",
       "9     TV Stand  This sleek TV stand is perfect for your entert...   \n",
       "\n",
       "                                      processed_text  \n",
       "0  comfortable chair perfect room home feature so...  \n",
       "1  beautiful sofa great addition living room slee...  \n",
       "2  elegant table perfect dining room durable wood...  \n",
       "3  cozy bed perfect good night sleep soft mattres...  \n",
       "4  modern bookshelf perfect display favorite book...  \n",
       "5  functional desk perfect home office spacious s...  \n",
       "6  stylish ottoman perfect living room bedroom fo...  \n",
       "7  versatile cabinet perfect store belonging mult...  \n",
       "8  elegant dresser perfect bedroom spacious drawe...  \n",
       "9  sleek tv stand perfect entertainment center mu...  "
      ]
     },
     "execution_count": 13,
     "metadata": {},
     "output_type": "execute_result"
    }
   ],
   "source": [
    "def preprocess_text(text):\n",
    "    doc = nlp(text)\n",
    "    tokens = [token.lemma_.lower() for token in doc if not token.is_stop and not token.is_punct]\n",
    "    return \" \".join(tokens)\n",
    "df['processed_text'] = df['description'].apply(preprocess_text)\n",
    "df"
   ]
  },
  {
   "cell_type": "code",
   "execution_count": 11,
   "metadata": {},
   "outputs": [],
   "source": [
    "vectorizer = TfidfVectorizer()\n",
    "vectors = vectorizer.fit_transform(df['processed_text'])"
   ]
  },
  {
   "cell_type": "code",
   "execution_count": 24,
   "metadata": {},
   "outputs": [],
   "source": [
    "similarity = cosine_similarity(vectors)"
   ]
  },
  {
   "cell_type": "code",
   "execution_count": 26,
   "metadata": {},
   "outputs": [],
   "source": [
    "dists = []\n",
    "\n",
    "for i in range(vectors.shape[0]):\n",
    "    for j in range(i + 1, vectors.shape[0]):\n",
    "        dists.append((i, j, similarity[i, j]))"
   ]
  },
  {
   "cell_type": "code",
   "execution_count": 28,
   "metadata": {},
   "outputs": [
    {
     "data": {
      "text/plain": [
       "[(0, 2, 0.25938762953244804),\n",
       " (6, 8, 0.25085690793255755),\n",
       " (0, 1, 0.25055127750774986),\n",
       " (0, 3, 0.2456180219805501),\n",
       " (2, 8, 0.24096224354397955)]"
      ]
     },
     "execution_count": 28,
     "metadata": {},
     "output_type": "execute_result"
    }
   ],
   "source": [
    "n = 5\n",
    "\n",
    "top_n = sorted(dists, key = lambda x: x[2], reverse = True)[:n]\n",
    "top_n"
   ]
  },
  {
   "cell_type": "code",
   "execution_count": 29,
   "metadata": {},
   "outputs": [
    {
     "name": "stdout",
     "output_type": "stream",
     "text": [
      "top 1: Chair and Table (dist = 0.25938762953244804)\n",
      "top 2: Ottoman and Dresser (dist = 0.25085690793255755)\n",
      "top 3: Chair and Sofa (dist = 0.25055127750774986)\n",
      "top 4: Chair and Bed (dist = 0.2456180219805501)\n",
      "top 5: Table and Dresser (dist = 0.24096224354397955)\n"
     ]
    }
   ],
   "source": [
    "for i in range(n):\n",
    "    print(f\"top {i + 1}: {df['product_name'][top_n[i][0]]} and {df['product_name'][top_n[i][1]]} (dist = {top_n[i][2]})\")"
   ]
  }
 ],
 "metadata": {
  "kernelspec": {
   "display_name": "Python 3",
   "language": "python",
   "name": "python3"
  },
  "language_info": {
   "codemirror_mode": {
    "name": "ipython",
    "version": 3
   },
   "file_extension": ".py",
   "mimetype": "text/x-python",
   "name": "python",
   "nbconvert_exporter": "python",
   "pygments_lexer": "ipython3",
   "version": "3.8.5"
  }
 },
 "nbformat": 4,
 "nbformat_minor": 4
}
