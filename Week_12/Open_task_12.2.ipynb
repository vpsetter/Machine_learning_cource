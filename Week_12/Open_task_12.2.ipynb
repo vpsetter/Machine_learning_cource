{
 "cells": [
  {
   "cell_type": "markdown",
   "metadata": {},
   "source": [
    "### Расчет косинусной меры между предложениями\n",
    "Напишите программу, которая будет сравнивать два предложения и выводить значение косинусной меры угла между их векторными представлениями.\n",
    "\n",
    "Предложения могут быть любыми, например:\n",
    "\n",
    "●\t«Сегодня очень холодно на улице» и «На улице сегодня очень холодно»;\n",
    "●\t«Обезьяны любят бананы» и «Собаки не любят молоко».\n",
    "\n",
    "Программа должна выводить значение косинусной меры угла между векторами, которые соответствуют каждому из предложений.\n",
    "\n",
    "Для решения данной задачи вам понадобится библиотека spacy и модель для работы с русским языком. Используйте следующий код для их установки:\n",
    "\n",
    "!pip install spacy\n",
    "!python -m spacy download ru_core_news_lg\n",
    "Далее выполните импорт библиотеки spacy и русскоязычной модели ru_core_news_lg:\n",
    "\n",
    "import spacy\n",
    "nlp = spacy.load(\"ru_core_news_lg\")\n",
    "Сохраните код вашей программы в отдельный файл и загрузите решение в LMS."
   ]
  },
  {
   "cell_type": "code",
   "execution_count": 1,
   "metadata": {},
   "outputs": [],
   "source": [
    "import spacy\n",
    "import numpy as np"
   ]
  },
  {
   "cell_type": "code",
   "execution_count": 2,
   "metadata": {},
   "outputs": [],
   "source": [
    "#spacy.cli.download(\"ru_core_news_lg\")"
   ]
  },
  {
   "cell_type": "code",
   "execution_count": 3,
   "metadata": {},
   "outputs": [],
   "source": [
    "nlp = spacy.load('ru_core_news_lg')"
   ]
  },
  {
   "cell_type": "code",
   "execution_count": 4,
   "metadata": {},
   "outputs": [],
   "source": [
    "sent_1 = 'Обезьяны любят бананы'\n",
    "sent_2 = 'Собаки не любят молоко'"
   ]
  },
  {
   "cell_type": "code",
   "execution_count": 5,
   "metadata": {},
   "outputs": [],
   "source": [
    "def cosine(sent_1, sent_2):\n",
    "    v1 = np.mean([w.vector for w in nlp(sent_1)], axis=0)\n",
    "    v2 = np.mean([w.vector for w in nlp(sent_2)], axis=0)\n",
    "    if np.linalg.norm(v1)*np.linalg.norm(v2) > 0:\n",
    "        return np.dot(v1, v2) / (np.linalg.norm(v1)*np.linalg.norm(v2))\n",
    "    else:\n",
    "        return 0"
   ]
  },
  {
   "cell_type": "code",
   "execution_count": 6,
   "metadata": {},
   "outputs": [
    {
     "data": {
      "text/plain": [
       "0.64636517"
      ]
     },
     "execution_count": 6,
     "metadata": {},
     "output_type": "execute_result"
    }
   ],
   "source": [
    "cosine(sent_1, sent_2)"
   ]
  }
 ],
 "metadata": {
  "kernelspec": {
   "display_name": "Python 3",
   "language": "python",
   "name": "python3"
  },
  "language_info": {
   "codemirror_mode": {
    "name": "ipython",
    "version": 3
   },
   "file_extension": ".py",
   "mimetype": "text/x-python",
   "name": "python",
   "nbconvert_exporter": "python",
   "pygments_lexer": "ipython3",
   "version": "3.8.5"
  }
 },
 "nbformat": 4,
 "nbformat_minor": 4
}
