{
 "cells": [
  {
   "cell_type": "markdown",
   "metadata": {},
   "source": [
    "Анализ массива с помощью NumPy в Python\n",
    "Это задание не проверяется LMS, но выполняя его, вы тренируете и закрепляете навыки работы с функциями библиотеки NumPy на различных исходных данных.\n",
    "\n",
    "Для этого задания вы можете использовать любой доступный вам набор данных. Либо можно сгенерировать NumPy массив самостоятельно. \n",
    "\n",
    "Что нужно сделать:\n",
    "\n",
    "1.\tСоздайте Python-ноутбук, загрузите в него данные из csv-файла и преобразуйте в массив NumPy. Либо сгенерируйте массив самостоятельно.\n",
    "\n",
    "2.\tПолучите атрибуты массива — число измерений, размеры массива, количество элементов, тип данных элементов.\n",
    "\n",
    "3.\tПотренируйтесь в выборке элемента по индексу и выполнении срезов данных массива.\n",
    "\n",
    "4.\tПотренируйтесь в выполнении математических и статистических функций библиотеки NumPy — найдите сумму элементов, среднее значение, медиану, отклонение от среднего и другие показатели, которые считаете полезными при анализе исходного массива.\n",
    "\n",
    "По каждому пункту задания сделайте выводы и отразите их в созданном Python-ноутбуке. В качестве решения задания прикрепите ссылку на свой ноутбук."
   ]
  },
  {
   "cell_type": "code",
   "execution_count": 1,
   "metadata": {},
   "outputs": [],
   "source": [
    "import csv\n",
    "import pandas as pd\n",
    "import numpy as np"
   ]
  },
  {
   "cell_type": "code",
   "execution_count": 2,
   "metadata": {},
   "outputs": [
    {
     "data": {
      "text/plain": [
       "array([[ 1,  2,  3,  4],\n",
       "       [ 5,  6,  7,  8],\n",
       "       [ 9, 10, 11, 12]])"
      ]
     },
     "execution_count": 2,
     "metadata": {},
     "output_type": "execute_result"
    }
   ],
   "source": [
    "data = np.array([[1, 2, 3, 4], [5, 6, 7, 8], [9, 10, 11, 12]])\n",
    "data"
   ]
  },
  {
   "cell_type": "code",
   "execution_count": 3,
   "metadata": {},
   "outputs": [
    {
     "data": {
      "text/html": [
       "<div>\n",
       "<style scoped>\n",
       "    .dataframe tbody tr th:only-of-type {\n",
       "        vertical-align: middle;\n",
       "    }\n",
       "\n",
       "    .dataframe tbody tr th {\n",
       "        vertical-align: top;\n",
       "    }\n",
       "\n",
       "    .dataframe thead th {\n",
       "        text-align: right;\n",
       "    }\n",
       "</style>\n",
       "<table border=\"1\" class=\"dataframe\">\n",
       "  <thead>\n",
       "    <tr style=\"text-align: right;\">\n",
       "      <th></th>\n",
       "      <th>0</th>\n",
       "      <th>1</th>\n",
       "      <th>2</th>\n",
       "      <th>3</th>\n",
       "    </tr>\n",
       "  </thead>\n",
       "  <tbody>\n",
       "    <tr>\n",
       "      <th>0</th>\n",
       "      <td>1</td>\n",
       "      <td>2</td>\n",
       "      <td>3</td>\n",
       "      <td>4</td>\n",
       "    </tr>\n",
       "    <tr>\n",
       "      <th>1</th>\n",
       "      <td>5</td>\n",
       "      <td>6</td>\n",
       "      <td>7</td>\n",
       "      <td>8</td>\n",
       "    </tr>\n",
       "    <tr>\n",
       "      <th>2</th>\n",
       "      <td>9</td>\n",
       "      <td>10</td>\n",
       "      <td>11</td>\n",
       "      <td>12</td>\n",
       "    </tr>\n",
       "  </tbody>\n",
       "</table>\n",
       "</div>"
      ],
      "text/plain": [
       "   0   1   2   3\n",
       "0  1   2   3   4\n",
       "1  5   6   7   8\n",
       "2  9  10  11  12"
      ]
     },
     "execution_count": 3,
     "metadata": {},
     "output_type": "execute_result"
    }
   ],
   "source": [
    "filename = 'array.csv'\n",
    "\n",
    "with open(filename, 'w', newline='') as f:\n",
    "    writer = csv.writer(f)\n",
    "    \n",
    "    for i in np.arange(data.shape[0]):\n",
    "        \n",
    "        writer.writerow(data[i, :])\n",
    "        \n",
    "array_pd = pd.read_csv(filename, header=None)\n",
    "array_pd"
   ]
  },
  {
   "cell_type": "code",
   "execution_count": 4,
   "metadata": {},
   "outputs": [
    {
     "data": {
      "text/plain": [
       "array([[ 1,  2,  3,  4],\n",
       "       [ 5,  6,  7,  8],\n",
       "       [ 9, 10, 11, 12]], dtype=int64)"
      ]
     },
     "execution_count": 4,
     "metadata": {},
     "output_type": "execute_result"
    }
   ],
   "source": [
    "array = array_pd.to_numpy()\n",
    "array"
   ]
  },
  {
   "cell_type": "code",
   "execution_count": 5,
   "metadata": {},
   "outputs": [
    {
     "name": "stdout",
     "output_type": "stream",
     "text": [
      "dims = 2\n",
      "shape = (3, 4)\n",
      "size = 12\n",
      "type = int64\n"
     ]
    }
   ],
   "source": [
    "print(f\"dims = {array.ndim}\")\n",
    "print(f\"shape = {array.shape}\")\n",
    "print(f\"size = {array.size}\")\n",
    "print(f\"type = {array.dtype}\")"
   ]
  },
  {
   "cell_type": "code",
   "execution_count": 6,
   "metadata": {},
   "outputs": [
    {
     "name": "stdout",
     "output_type": "stream",
     "text": [
      "1st row : \n",
      "[1 2 3 4]\n",
      "\n",
      "3rd column : \n",
      "[ 4  8 12]\n",
      "\n",
      "rows 1, 3 : \n",
      "[[ 1  2  3  4]\n",
      " [ 9 10 11 12]]\n",
      "\n",
      "odd columns : \n",
      "[[ 1  3]\n",
      " [ 5  7]\n",
      " [ 9 11]]\n",
      "\n",
      "odd rows and columns : \n",
      "[[ 1  3]\n",
      " [ 9 11]]\n",
      "\n"
     ]
    }
   ],
   "source": [
    "print(f\"1st row : \\n{array[0, :]}\\n\")\n",
    "print(f\"3rd column : \\n{array[:, 3]}\\n\")\n",
    "print(f\"rows 1, 3 : \\n{array[[0, 2], :]}\\n\")\n",
    "print(f\"odd columns : \\n{array[:, ::2]}\\n\")\n",
    "print(f\"odd rows and columns : \\n{array[::2, ::2]}\\n\")"
   ]
  },
  {
   "cell_type": "code",
   "execution_count": 7,
   "metadata": {},
   "outputs": [
    {
     "name": "stdout",
     "output_type": "stream",
     "text": [
      "N\t: 12\n",
      "sum\t: 78\n",
      "max\t: 12\n",
      "min\t: 1\n",
      "med\t: 6.5\n",
      "avg\t: 6.5\n",
      "st_dev\t: 3.45\n"
     ]
    }
   ],
   "source": [
    "print(f\"N\\t: {array.size}\")\n",
    "print(f\"sum\\t: {np.sum(array)}\")\n",
    "print(f\"max\\t: {np.max(array)}\")\n",
    "print(f\"min\\t: {np.min(array)}\")\n",
    "print(f\"med\\t: {np.median(array)}\")\n",
    "print(f\"avg\\t: {np.mean(array)}\")\n",
    "print(f\"st_dev\\t: {np.std(array):.2f}\")"
   ]
  }
 ],
 "metadata": {
  "kernelspec": {
   "display_name": "Python 3",
   "language": "python",
   "name": "python3"
  },
  "language_info": {
   "codemirror_mode": {
    "name": "ipython",
    "version": 3
   },
   "file_extension": ".py",
   "mimetype": "text/x-python",
   "name": "python",
   "nbconvert_exporter": "python",
   "pygments_lexer": "ipython3",
   "version": "3.8.5"
  }
 },
 "nbformat": 4,
 "nbformat_minor": 4
}
